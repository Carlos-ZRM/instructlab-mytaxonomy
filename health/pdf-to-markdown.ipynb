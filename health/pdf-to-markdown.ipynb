{
 "cells": [
  {
   "cell_type": "markdown",
   "id": "e406586e-334d-4009-9d60-14b75b860a20",
   "metadata": {},
   "source": [
    "# Import"
   ]
  },
  {
   "cell_type": "code",
   "execution_count": null,
   "id": "5b3e0554-6c55-440c-a9a0-c818d6a5df40",
   "metadata": {},
   "outputs": [],
   "source": [
    "from pdfminer.high_level import extract_text\n"
   ]
  },
  {
   "cell_type": "markdown",
   "id": "3f092f61-0cb8-4ae5-8132-83044a639e38",
   "metadata": {},
   "source": [
    "# Convert pdf to markdown"
   ]
  },
  {
   "cell_type": "code",
   "execution_count": null,
   "id": "38818143-2bb0-4215-b15c-98268f7dedb4",
   "metadata": {},
   "outputs": [],
   "source": [
    "def pdf_to_markdown(pdf_path, markdown_path):\n",
    "    # Extract text from the PDF\n",
    "    text = extract_text(pdf_path)\n",
    "    \n",
    "    # Convert the text to Markdown format (basic conversion)\n",
    "    markdown_content = \"# Extracted Content\\n\\n\" + text.replace(\"\\n\", \"  \\n\")  # Add Markdown line breaks\n",
    "    \n",
    "    # Write the Markdown content to a file\n",
    "    with open(markdown_path, \"w\", encoding=\"utf-8\") as md_file:\n",
    "        md_file.write(markdown_content)"
   ]
  },
  {
   "cell_type": "markdown",
   "id": "8cf6e311-03bd-4a70-9980-d20ee970f071",
   "metadata": {},
   "source": [
    "# Example"
   ]
  },
  {
   "cell_type": "code",
   "execution_count": null,
   "id": "0b974be4-5f56-4c78-8560-e1397ecec4c0",
   "metadata": {},
   "outputs": [],
   "source": [
    "!ls"
   ]
  },
  {
   "cell_type": "code",
   "execution_count": null,
   "id": "61372b2d-d8d5-4bb1-93c6-90e7af426640",
   "metadata": {},
   "outputs": [],
   "source": [
    "\n",
    "# Example usage\n",
    "pdf_path = \"health/docs/Drug-Treatment-of-Cluster-Headache.pdf\"  # Replace with your PDF file path\n",
    "markdown_path = \"/home/jovyan/instructlab-mytaxonomy/health/docs/demo-output.md\"  # Output Markdown file path\n",
    "pdf_to_markdown(pdf_path, markdown_path)\n",
    "\n",
    "print(f\"Markdown file created at: {markdown_path}\")"
   ]
  },
  {
   "cell_type": "code",
   "execution_count": null,
   "id": "818075ab",
   "metadata": {},
   "outputs": [],
   "source": []
  },
  {
   "cell_type": "code",
   "execution_count": null,
   "id": "187960a8-7ac3-4d4d-92a3-002ad8632f91",
   "metadata": {},
   "outputs": [],
   "source": []
  }
 ],
 "metadata": {
  "kernelspec": {
   "display_name": "Python 3 (ipykernel)",
   "language": "python",
   "name": "python3"
  },
  "language_info": {
   "codemirror_mode": {
    "name": "ipython",
    "version": 3
   },
   "file_extension": ".py",
   "mimetype": "text/x-python",
   "name": "python",
   "nbconvert_exporter": "python",
   "pygments_lexer": "ipython3",
   "version": "3.11.11"
  }
 },
 "nbformat": 4,
 "nbformat_minor": 5
}
